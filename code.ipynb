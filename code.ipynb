{
 "cells": [
  {
   "cell_type": "code",
   "execution_count": 1,
   "id": "f0d6c187",
   "metadata": {},
   "outputs": [],
   "source": [
    "import numpy as np\n",
    "import pandas as pd\n",
    "import matplotlib.pyplot as plt"
   ]
  },
  {
   "cell_type": "code",
   "execution_count": 2,
   "id": "09c75d12",
   "metadata": {},
   "outputs": [
    {
     "name": "stdout",
     "output_type": "stream",
     "text": [
      "       Category                                             Resume  \\\n",
      "0  Data Science  Skills * Programming Languages: Python (pandas...   \n",
      "1  Data Science  Education Details \\r\\nMay 2013 to May 2017 B.E...   \n",
      "2  Data Science  Areas of Interest Deep Learning, Control Syste...   \n",
      "3  Data Science  Skills â¢ R â¢ Python â¢ SAP HANA â¢ Table...   \n",
      "4  Data Science  Education Details \\r\\n MCA   YMCAUST,  Faridab...   \n",
      "\n",
      "  cleaned_resume  \n",
      "0                 \n",
      "1                 \n",
      "2                 \n",
      "3                 \n",
      "4                 \n"
     ]
    }
   ],
   "source": [
    "resumeDataSet = pd.read_csv('ResumeDataset.csv' ,encoding='utf-8')\n",
    "resumeDataSet['cleaned_resume'] = ''\n",
    "print(resumeDataSet.head())"
   ]
  },
  {
   "cell_type": "code",
   "execution_count": 3,
   "id": "06dd9680",
   "metadata": {},
   "outputs": [
    {
     "name": "stdout",
     "output_type": "stream",
     "text": [
      "0      Skills Programming Languages Python pandas num...\n",
      "1      Education Details May 2013 to May 2017 B E UIT...\n",
      "2      Areas of Interest Deep Learning Control System...\n",
      "3      Skills R Python SAP HANA Tableau SAP HANA SQL ...\n",
      "4      Education Details MCA YMCAUST Faridabad Haryan...\n",
      "                             ...                        \n",
      "957    Computer Skills Proficient in MS office Word B...\n",
      "958     Willingness to a ept the challenges Positive ...\n",
      "959    PERSONAL SKILLS Quick learner Eagerness to lea...\n",
      "960    COMPUTER SKILLS SOFTWARE KNOWLEDGE MS Power Po...\n",
      "961    Skill Set OS Windows XP 7 8 8 1 10 Database MY...\n",
      "Name: cleaned_resume, Length: 962, dtype: object\n"
     ]
    }
   ],
   "source": [
    "import re\n",
    "def cleanResume(resumeText):\n",
    "    resumeText = re.sub('http\\S+\\s*', ' ', resumeText)  # remove URLs\n",
    "    resumeText = re.sub('RT|cc', ' ', resumeText)  # remove RT and cc\n",
    "    resumeText = re.sub('#\\S+', '', resumeText)  # remove hashtags\n",
    "    resumeText = re.sub('@\\S+', '  ', resumeText)  # remove mentions\n",
    "    resumeText = re.sub('[%s]' % re.escape(\"\"\"!\"#$%&'()*+,-./:;<=>?@[\\]^_`{|}~\"\"\"), ' ', resumeText)  # remove punctuations\n",
    "    resumeText = re.sub(r'[^\\x00-\\x7f]',r' ', resumeText) \n",
    "    resumeText = re.sub('\\s+', ' ', resumeText)  # remove extra whitespace\n",
    "    return resumeText\n",
    "\n",
    "resumeDataSet['cleaned_resume'] = resumeDataSet.Resume.apply(lambda x: cleanResume(x))\n",
    "print(resumeDataSet['cleaned_resume'])"
   ]
  },
  {
   "cell_type": "code",
   "execution_count": 4,
   "id": "b7c192d6",
   "metadata": {},
   "outputs": [
    {
     "name": "stdout",
     "output_type": "stream",
     "text": [
      "[('Details', 484), ('Exprience', 446), ('months', 376), ('company', 330), ('description', 310), ('1', 290), ('year', 232), ('January', 216), ('Less', 204), ('Data', 200), ('data', 192), ('Skill', 166), ('Maharashtra', 166), ('6', 164), ('Python', 156), ('Science', 154), ('I', 146), ('Education', 142), ('College', 140), ('The', 126), ('project', 126), ('like', 126), ('Project', 124), ('Learning', 116), ('India', 114), ('Machine', 112), ('University', 112), ('Web', 106), ('using', 104), ('monthsCompany', 102), ('B', 98), ('C', 98), ('SQL', 96), ('time', 92), ('learning', 90), ('Mumbai', 90), ('Pune', 90), ('Arts', 90), ('A', 84), ('application', 84), ('Engineering', 78), ('24', 76), ('various', 76), ('Software', 76), ('Responsibilities', 76), ('Nagpur', 76), ('development', 74), ('Management', 74), ('projects', 74), ('Technologies', 72)]\n"
     ]
    }
   ],
   "source": [
    "import nltk\n",
    "# nltk.download('stopwords')\n",
    "# nltk.download('punkt')\n",
    "from nltk.corpus import stopwords\n",
    "import string\n",
    "# from wordcloud import WordCloud\n",
    "\n",
    "oneSetOfStopWords = set(stopwords.words('english')+['``',\"''\"])\n",
    "totalWords =[]\n",
    "Sentences = resumeDataSet['Resume'].values\n",
    "cleanedSentences = \"\"\n",
    "for i in range(0,160):\n",
    "    cleanedText = cleanResume(Sentences[i])\n",
    "    cleanedSentences += cleanedText\n",
    "    requiredWords = nltk.word_tokenize(cleanedText)\n",
    "    for word in requiredWords:\n",
    "        if word not in oneSetOfStopWords and word not in string.punctuation:\n",
    "            totalWords.append(word)\n",
    "    \n",
    "wordfreqdist = nltk.FreqDist(totalWords)\n",
    "mostcommon = wordfreqdist.most_common(50)\n",
    "print(mostcommon)"
   ]
  },
  {
   "cell_type": "code",
   "execution_count": 4,
   "id": "7e8f8d63",
   "metadata": {},
   "outputs": [],
   "source": [
    "from sklearn.preprocessing import LabelEncoder\n",
    "\n",
    "le = LabelEncoder()\n",
    "\n",
    "resumeDataSet['encodedCategory'] = le.fit_transform(resumeDataSet['Category'])"
   ]
  },
  {
   "cell_type": "code",
   "execution_count": 5,
   "id": "01c2dfd3",
   "metadata": {},
   "outputs": [
    {
     "data": {
      "text/plain": [
       "0      Data Science\n",
       "1      Data Science\n",
       "2      Data Science\n",
       "3      Data Science\n",
       "4      Data Science\n",
       "           ...     \n",
       "957         Testing\n",
       "958         Testing\n",
       "959         Testing\n",
       "960         Testing\n",
       "961         Testing\n",
       "Name: Category, Length: 962, dtype: object"
      ]
     },
     "execution_count": 5,
     "metadata": {},
     "output_type": "execute_result"
    }
   ],
   "source": [
    "resumeDataSet['Category']"
   ]
  },
  {
   "cell_type": "code",
   "execution_count": 6,
   "id": "d27e1dbb",
   "metadata": {},
   "outputs": [
    {
     "data": {
      "image/png": "[encoded data removed]",
      "text/plain": [
       "<Figure size 1440x720 with 1 Axes>"
      ]
     },
     "metadata": {
      "needs_background": "light"
     },
     "output_type": "display_data"
    }
   ],
   "source": [
    "import seaborn as sns\n",
    "plt.figure(figsize=(20,10))\n",
    "plt.xticks(rotation=90)\n",
    "sns.countplot(y=\"Category\", data=resumeDataSet)\n",
    "plt.show()"
   ]
  },
  {
   "cell_type": "code",
   "execution_count": 7,
   "id": "442f14a8",
   "metadata": {},
   "outputs": [
    {
     "name": "stdout",
     "output_type": "stream",
     "text": [
      "Feature completed .....\n",
      "For Tfidf..\n",
      "(673, 41068)\n",
      "(289, 41068)\n",
      "For CountVectorizer..\n",
      "(673, 41068)\n",
      "(289, 41068)\n"
     ]
    }
   ],
   "source": [
    "# from sklearn.model_selection import train_test_split\n",
    "# from sklearn.feature_extraction.text import TfidfVectorizer\n",
    "# from scipy.sparse import hstack\n",
    "\n",
    "# requiredText = resumeDataSet['cleaned_resume'].values\n",
    "# requiredTarget = resumeDataSet['encodedCategory'].values\n",
    "\n",
    "# word_vectorizer = TfidfVectorizer(\n",
    "#     sublinear_tf=True,\n",
    "#     stop_words='english',\n",
    "#     max_features=1500)\n",
    "# word_vectorizer.fit(requiredText)\n",
    "# WordFeatures = word_vectorizer.transform(requiredText)\n",
    "\n",
    "# print (\"Feature completed .....\")\n",
    "\n",
    "# X_train,X_test,y_train,y_test = train_test_split(WordFeatures,requiredTarget,random_state=0, test_size=0.2)\n",
    "# print(X_train.shape)\n",
    "# print(X_test.shape)\n",
    "from sklearn.model_selection import train_test_split\n",
    "from sklearn.feature_extraction.text import CountVectorizer, TfidfVectorizer\n",
    "\n",
    "requiredText = resumeDataSet['cleaned_resume'].values\n",
    "requiredTarget = resumeDataSet['encodedCategory'].values\n",
    "\n",
    "tv = TfidfVectorizer(use_idf=True, ngram_range=(1,2),sublinear_tf=False, stop_words='english')\n",
    "tv.fit(requiredText)\n",
    "WordFeatures_tv = tv.transform(requiredText)\n",
    "\n",
    "cv = CountVectorizer(binary=False, ngram_range=(1,2), stop_words='english')\n",
    "cv.fit(requiredText)\n",
    "WordFeatures_cv = cv.transform(requiredText)\n",
    "print (\"Feature completed .....\")\n",
    "\n",
    "# X_train,X_test,y_train,y_ test = train_test_split(WordFeatures,requiredTarget,random_state=0, test_size=0.2)\n",
    "\n",
    "X_train_tv,X_test_tv,y_train_tv,y_test_tv = train_test_split(WordFeatures_tv,requiredTarget,random_state=0, test_size=0.3)\n",
    "X_train_cv,X_test_cv,y_train_cv,y_test_cv = train_test_split(WordFeatures_cv,requiredTarget,random_state=0, test_size=0.3)\n",
    "print(\"For Tfidf..\")\n",
    "print(X_train_tv.shape)\n",
    "print(X_test_tv.shape)\n",
    "\n",
    "print(\"For CountVectorizer..\")\n",
    "print(X_train_cv.shape)\n",
    "print(X_test_cv.shape)"
   ]
  },
  {
   "cell_type": "code",
   "execution_count": 8,
   "id": "9b757cc7",
   "metadata": {},
   "outputs": [],
   "source": [
    "import warnings\n",
    "warnings.filterwarnings('ignore')\n",
    "from sklearn.naive_bayes import MultinomialNB\n",
    "from sklearn.multiclass import OneVsRestClassifier\n",
    "from sklearn import metrics\n",
    "from sklearn.metrics import accuracy_score\n",
    "from pandas.plotting import scatter_matrix\n",
    "from sklearn.neighbors import KNeighborsClassifier\n",
    "from sklearn import metrics"
   ]
  },
  {
   "cell_type": "code",
   "execution_count": 9,
   "id": "a7250eb1",
   "metadata": {},
   "outputs": [
    {
     "name": "stdout",
     "output_type": "stream",
     "text": [
      "Using TFIDF...\n",
      "Accuracy of KNeighbors Classifier on training set: 98.51%\n",
      "Accuracy of KNeighbors Classifier on test set: 96.89%\n",
      "Using Count Vectorizer...\n",
      "Accuracy of KNeighbors Classifier on training set: 95.10%\n",
      "Accuracy of KNeighbors Classifier on test set: 88.58%\n"
     ]
    }
   ],
   "source": [
    "# clf = OneVsRestClassifier(KNeighborsClassifier())\n",
    "# clf.fit(X_train, y_train)\n",
    "# prediction = clf.predict(X_test)\n",
    "# print('Accuracy of KNeighbors Classifier on training set: {:.2f}'.format(clf.score(X_train, y_train)))\n",
    "# print('Accuracy of KNeighbors Classifier on test set: {:.2f}'.format(clf.score(X_test, y_test)))\n",
    "\n",
    "# print(\"\\n Classification report for classifier %s:\\n%s\\n\" % (clf, metrics.classification_report(y_test, prediction)))\n",
    "\n",
    "# print(\"\\n Prediction \\n\")\n",
    "\n",
    "knn_tv = OneVsRestClassifier(KNeighborsClassifier())\n",
    "knn_tv.fit(X_train_tv, y_train_tv)\n",
    "prediction = knn_tv.predict(X_test_tv)\n",
    "print(\"Using TFIDF...\")\n",
    "print('Accuracy of KNeighbors Classifier on training set: {:2.2%}'.format(knn_tv.score(X_train_tv, y_train_tv)))\n",
    "print('Accuracy of KNeighbors Classifier on test set: {:2.2%}'.format(knn_tv.score(X_test_tv, y_test_tv)))\n",
    "\n",
    "knn_cv = OneVsRestClassifier(KNeighborsClassifier())\n",
    "knn_cv.fit(X_train_cv, y_train_cv)\n",
    "prediction = knn_cv.predict(X_test_cv)\n",
    "print(\"Using Count Vectorizer...\")\n",
    "print('Accuracy of KNeighbors Classifier on training set: {:2.2%}'.format(knn_cv.score(X_train_cv, y_train_cv)))\n",
    "print('Accuracy of KNeighbors Classifier on test set: {:2.2%}'.format(knn_cv.score(X_test_cv, y_test_cv)))\n",
    "\n",
    "\n",
    "# print(prediction)"
   ]
  },
  {
   "cell_type": "code",
   "execution_count": 10,
   "id": "2d8fdbe8",
   "metadata": {},
   "outputs": [
    {
     "name": "stdout",
     "output_type": "stream",
     "text": [
      "Using TFIDF...\n",
      "Accuracy of Logistic Regression Classifier on training set: 100.00%\n",
      "Accuracy of Logistic Regression on test set: 99.31%\n",
      "Using Count Vectorizer...\n",
      "Accuracy of Logistic Regression Classifier on training set: 100.00%\n",
      "Accuracy of Logistic Regression on test set: 99.31%\n"
     ]
    }
   ],
   "source": [
    "from sklearn.linear_model import LogisticRegression\n",
    "lr_tv = OneVsRestClassifier(LogisticRegression())\n",
    "lr_tv.fit(X_train_tv, y_train_tv)\n",
    "prediction = lr_tv.predict(X_test_tv)\n",
    "print(\"Using TFIDF...\")\n",
    "print('Accuracy of Logistic Regression Classifier on training set: {:2.2%}'.format(lr_tv.score(X_train_tv, y_train_tv)))\n",
    "print('Accuracy of Logistic Regression on test set: {:2.2%}'.format(lr_tv.score(X_test_tv, y_test_tv)))\n",
    "\n",
    "lr_cv = OneVsRestClassifier(LogisticRegression())\n",
    "lr_cv.fit(X_train_cv, y_train_cv)\n",
    "prediction = lr_cv.predict(X_test_cv)\n",
    "print(\"Using Count Vectorizer...\")\n",
    "print('Accuracy of Logistic Regression Classifier on training set: {:2.2%}'.format(lr_cv.score(X_train_cv, y_train_cv)))\n",
    "print('Accuracy of Logistic Regression on test set: {:2.2%}'.format(lr_cv.score(X_test_cv, y_test_cv)))"
   ]
  },
  {
   "cell_type": "code",
   "execution_count": 12,
   "id": "7a19d631",
   "metadata": {},
   "outputs": [],
   "source": [
    "import pickle"
   ]
  },
  {
   "cell_type": "code",
   "execution_count": 13,
   "id": "69cc8928",
   "metadata": {},
   "outputs": [],
   "source": [
    "data = {\"model\": knn_tv, \"le\": le, \"word_vectorizer\": tv}\n",
    "\n",
    "with open('predictor.pkl', 'wb') as file:\n",
    "    pickle.dump(data, file)"
   ]
  },
  {
   "cell_type": "code",
   "execution_count": 14,
   "id": "2fa1ae03",
   "metadata": {},
   "outputs": [],
   "source": [
    "with open('predictor.pkl', 'rb') as file:\n",
    "    data = pickle.load(file)\n",
    "    \n",
    "model = data[\"model\"]\n",
    "saved_le = data[\"le\"]\n",
    "saved_wv = data[\"word_vectorizer\"]"
   ]
  },
  {
   "cell_type": "code",
   "execution_count": 15,
   "id": "6d43dd85",
   "metadata": {},
   "outputs": [],
   "source": [
    "def predictCategory(inputText):\n",
    "    inputText = cleanResume(inputText)\n",
    "    vectorized_text = saved_wv.transform([inputText])\n",
    "    pred = model.predict(vectorized_text)\n",
    "    return saved_le.inverse_transform([pred])[0]"
   ]
  },
  {
   "cell_type": "code",
   "execution_count": 16,
   "id": "b6e51af7",
   "metadata": {},
   "outputs": [
    {
     "data": {
      "text/plain": [
       "'Data Science'"
      ]
     },
     "execution_count": 16,
     "metadata": {},
     "output_type": "execute_result"
    }
   ],
   "source": [
    "predictCategory(resumeDataSet['Resume'][0])"
   ]
  },
  {
   "cell_type": "code",
   "execution_count": null,
   "id": "0d373ebf",
   "metadata": {},
   "outputs": [],
   "source": []
  },
  {
   "cell_type": "code",
   "execution_count": null,
   "id": "b8155908",
   "metadata": {},
   "outputs": [],
   "source": [
    "\n"
   ]
  },
  {
   "cell_type": "code",
   "execution_count": null,
   "id": "ae77c5cf",
   "metadata": {},
   "outputs": [],
   "source": []
  },
  {
   "cell_type": "code",
   "execution_count": null,
   "id": "ed40262e",
   "metadata": {},
   "outputs": [],
   "source": []
  },
  {
   "cell_type": "code",
   "execution_count": null,
   "id": "c3c5cf2d",
   "metadata": {},
   "outputs": [],
   "source": []
  }
 ],
 "metadata": {
  "interpreter": {
   "hash": "abed16dad82f08f7960cd882c23997cb5f7fbc7be75c4e38a192aecde5b490b7"
  },
  "kernelspec": {
   "display_name": "Python 3 (ipykernel)",
   "language": "python",
   "name": "python3"
  },
  "language_info": {
   "codemirror_mode": {
    "name": "ipython",
    "version": 3
   },
   "file_extension": ".py",
   "mimetype": "text/x-python",
   "name": "python",
   "nbconvert_exporter": "python",
   "pygments_lexer": "ipython3",
   "version": "3.9.7"
  }
 },
 "nbformat": 4,
 "nbformat_minor": 5
}
